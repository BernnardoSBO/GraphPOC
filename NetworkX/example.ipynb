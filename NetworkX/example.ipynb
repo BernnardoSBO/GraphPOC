{
 "cells": [
  {
   "cell_type": "code",
   "execution_count": 15,
   "metadata": {},
   "outputs": [],
   "source": [
    "import networkx as nx"
   ]
  },
  {
   "cell_type": "code",
   "execution_count": 16,
   "metadata": {},
   "outputs": [],
   "source": [
    "# multiple ways of creating graphs\n",
    "G = nx.DiGraph()\n",
    "G = nx.DiGraph([(1,2),(2,3)])\n",
    "E = nx.DiGraph(G)"
   ]
  },
  {
   "cell_type": "code",
   "execution_count": 17,
   "metadata": {},
   "outputs": [],
   "source": [
    "# multiple ways of adding nodes to graphs\n",
    "G.add_node(1)\n",
    "G.add_nodes_from([2,3])\n",
    "G.add_nodes_from([(4, {\"color\": \"red\"})])"
   ]
  },
  {
   "cell_type": "code",
   "execution_count": 18,
   "metadata": {},
   "outputs": [],
   "source": [
    "# add another graph as a node\n",
    "H = nx.path_graph(3)\n",
    "G.add_node(H)"
   ]
  },
  {
   "cell_type": "code",
   "execution_count": 19,
   "metadata": {},
   "outputs": [],
   "source": [
    "# multiple ways of adding edges to graphs\n",
    "G.add_edge(1,2)\n",
    "\n",
    "new_edge = (1,3)\n",
    "G.add_edge(*new_edge)\n",
    "\n",
    "# ebunch of edges: any iterable container of edge-tuples\n",
    "#   edge-tuples: 2 tuple of nodes or 3 tuples (2 nodes and 1 attr)\n",
    "new_edges = [(1,4),(1,5)]\n",
    "G.add_edges_from(new_edges)"
   ]
  },
  {
   "cell_type": "code",
   "execution_count": 20,
   "metadata": {},
   "outputs": [],
   "source": [
    "# edges can also have properties\n",
    "G.add_edge(1,2, weight= 3)\n",
    "\n",
    "new_edge = (1,3)\n",
    "G.add_edge(*new_edge, weight = 4)\n",
    "\n",
    "new_edges = [(1,4, {'weight': 5}),(1,5, {'weight': 6})]\n",
    "G.add_edges_from(new_edges)"
   ]
  },
  {
   "cell_type": "code",
   "execution_count": 21,
   "metadata": {},
   "outputs": [
    {
     "data": {
      "text/plain": [
       "6"
      ]
     },
     "execution_count": 21,
     "metadata": {},
     "output_type": "execute_result"
    }
   ],
   "source": [
    "# methods to access graph components\n",
    "G.number_of_nodes()"
   ]
  },
  {
   "cell_type": "code",
   "execution_count": 22,
   "metadata": {},
   "outputs": [
    {
     "data": {
      "text/plain": [
       "5"
      ]
     },
     "execution_count": 22,
     "metadata": {},
     "output_type": "execute_result"
    }
   ],
   "source": [
    "G.number_of_edges()"
   ]
  },
  {
   "cell_type": "code",
   "execution_count": 23,
   "metadata": {},
   "outputs": [
    {
     "data": {
      "text/plain": [
       "[1, 2, 3, 4, <networkx.classes.graph.Graph at 0x7f18a5a68990>, 5]"
      ]
     },
     "execution_count": 23,
     "metadata": {},
     "output_type": "execute_result"
    }
   ],
   "source": [
    "list(G.nodes)"
   ]
  },
  {
   "cell_type": "code",
   "execution_count": 24,
   "metadata": {},
   "outputs": [
    {
     "data": {
      "text/plain": [
       "[(1, 2), (1, 3), (1, 4), (1, 5), (2, 3)]"
      ]
     },
     "execution_count": 24,
     "metadata": {},
     "output_type": "execute_result"
    }
   ],
   "source": [
    "list(G.edges)"
   ]
  },
  {
   "cell_type": "code",
   "execution_count": 25,
   "metadata": {},
   "outputs": [
    {
     "data": {
      "text/plain": [
       "[2, 3, 4, 5]"
      ]
     },
     "execution_count": 25,
     "metadata": {},
     "output_type": "execute_result"
    }
   ],
   "source": [
    "list(G.adj[1]) #neighbors of 1"
   ]
  },
  {
   "cell_type": "code",
   "execution_count": 26,
   "metadata": {},
   "outputs": [
    {
     "data": {
      "text/plain": [
       "[2, 3, 4, 5]"
      ]
     },
     "execution_count": 26,
     "metadata": {},
     "output_type": "execute_result"
    }
   ],
   "source": [
    "list(G.neighbors(1))"
   ]
  },
  {
   "cell_type": "code",
   "execution_count": 27,
   "metadata": {},
   "outputs": [
    {
     "data": {
      "text/plain": [
       "4"
      ]
     },
     "execution_count": 27,
     "metadata": {},
     "output_type": "execute_result"
    }
   ],
   "source": [
    "G.degree[1]"
   ]
  },
  {
   "cell_type": "code",
   "execution_count": 32,
   "metadata": {},
   "outputs": [
    {
     "name": "stdout",
     "output_type": "stream",
     "text": [
      "[(1, 2), (1, 3), (1, 4), (1, 5), (2, 3)]\n",
      "[(1, 2), (1, 3), (1, 4), (1, 5)]\n",
      "[(1, 2), (1, 3), (1, 4), (1, 5), (2, 3)]\n"
     ]
    }
   ],
   "source": [
    "#nbunch \n",
    "#   None: all nodes\n",
    "print(G.edges(None)) # all nodes\n",
    "\n",
    "#   1 node\n",
    "print(G.edges([1])) #nbunch of 1\n",
    "\n",
    "#   iterable container of nodes\n",
    "print(G.edges([1,2,3]))"
   ]
  },
  {
   "cell_type": "code",
   "execution_count": 39,
   "metadata": {},
   "outputs": [
    {
     "data": {
      "text/plain": [
       "[1,\n",
       " 2,\n",
       " 3,\n",
       " 4,\n",
       " <networkx.classes.graph.Graph at 0x7f18a5a68990>,\n",
       " 5,\n",
       " 'zip',\n",
       " 'z',\n",
       " 'i',\n",
       " 'p']"
      ]
     },
     "execution_count": 39,
     "metadata": {},
     "output_type": "execute_result"
    }
   ],
   "source": [
    "G.add_node(\"zip\")\n",
    "G.add_nodes_from(\"zip\")\n",
    "list(G)"
   ]
  },
  {
   "cell_type": "code",
   "execution_count": 40,
   "metadata": {},
   "outputs": [
    {
     "data": {
      "text/plain": [
       "[1, 2, 3, 4, <networkx.classes.graph.Graph at 0x7f18a5a68990>, 5]"
      ]
     },
     "execution_count": 40,
     "metadata": {},
     "output_type": "execute_result"
    }
   ],
   "source": [
    "# removing nodes\n",
    "G.remove_node(\"zip\")\n",
    "G.remove_nodes_from(\"zip\")\n",
    "list(G)"
   ]
  },
  {
   "cell_type": "code",
   "execution_count": 50,
   "metadata": {},
   "outputs": [],
   "source": [
    "#nodes and edges can be anything, handing the choice to the user\n",
    "class Foo:\n",
    "    def __init__(self, str, int):\n",
    "        self.str = str\n",
    "        self.int = int\n",
    "        \n",
    "class Bar:\n",
    "    def __init__(self, weight):\n",
    "        self.weight = weight        \n",
    "\n",
    "G = nx.DiGraph()\n",
    "nodes = [(Foo(\"bar\", 1), Foo(\"bar\", 2))]\n",
    "G.add_nodes_from(nodes)\n",
    "G.add_edge(Foo(\"bar\", 1), Foo(\"bar\", 2), object=Bar(3))"
   ]
  },
  {
   "cell_type": "code",
   "execution_count": 51,
   "metadata": {},
   "outputs": [
    {
     "data": {
      "text/plain": [
       "[(<__main__.Foo at 0x7f18a7105cd0>, <__main__.Foo at 0x7f18a5a14510>)]"
      ]
     },
     "execution_count": 51,
     "metadata": {},
     "output_type": "execute_result"
    }
   ],
   "source": [
    "list(G.edges)"
   ]
  },
  {
   "cell_type": "code",
   "execution_count": 54,
   "metadata": {},
   "outputs": [
    {
     "data": {
      "text/plain": [
       "{'color': 'blue'}"
      ]
     },
     "execution_count": 54,
     "metadata": {},
     "output_type": "execute_result"
    }
   ],
   "source": [
    "G = nx.DiGraph()\n",
    "G.add_edge(1,3)\n",
    "G[1][3][\"color\"] = \"blue\"\n",
    "G.edges[1,3]"
   ]
  },
  {
   "cell_type": "code",
   "execution_count": 55,
   "metadata": {},
   "outputs": [
    {
     "data": {
      "text/plain": [
       "ItemsView(AdjacencyView({1: {3: {'color': 'blue'}}, 3: {}}))"
      ]
     },
     "execution_count": 55,
     "metadata": {},
     "output_type": "execute_result"
    }
   ],
   "source": [
    "G.adj.items()"
   ]
  },
  {
   "cell_type": "code",
   "execution_count": 58,
   "metadata": {},
   "outputs": [
    {
     "name": "stdout",
     "output_type": "stream",
     "text": [
      "{3: {'color': 'blue'}}\n",
      "{}\n"
     ]
    }
   ],
   "source": [
    "for n, nbrs in G.adj.items():\n",
    "    print(nbrs)"
   ]
  },
  {
   "cell_type": "code",
   "execution_count": 64,
   "metadata": {},
   "outputs": [],
   "source": [
    "# adding attributes to graph, nodes, edges\n",
    "# networkx uses variadict syntax for attributes, associating them with\n",
    "# hashtable keys that can be indexed\n",
    "\n",
    "# GRAPHs\n",
    "G = nx.Graph(day=\"Friday\")\n",
    "G.graph['weight'] = 5"
   ]
  },
  {
   "cell_type": "code",
   "execution_count": 69,
   "metadata": {},
   "outputs": [
    {
     "data": {
      "text/plain": [
       "NodeDataView({3: {'name': 'C'}, 1: {'name': 'A'}, 2: {'name': 'B'}})"
      ]
     },
     "execution_count": 69,
     "metadata": {},
     "output_type": "execute_result"
    }
   ],
   "source": [
    "# NODES\n",
    "nodes = [\n",
    "    (1, {\"name\": \"A\"}),\n",
    "    (2, {\"name\": \"B\"}),\n",
    "]\n",
    "G.add_nodes_from(nodes)\n",
    "\n",
    "G.add_node(3, name=\"C\")\n",
    "\n",
    "G.nodes.data()"
   ]
  },
  {
   "cell_type": "code",
   "execution_count": 72,
   "metadata": {},
   "outputs": [
    {
     "data": {
      "text/plain": [
       "EdgeDataView([(3, 1, {'weight': 13}), (1, 2, {'weight': 15, 'color': 'pink'})])"
      ]
     },
     "execution_count": 72,
     "metadata": {},
     "output_type": "execute_result"
    }
   ],
   "source": [
    "# EDGES\n",
    "G.add_edge(1,2, weight=15)\n",
    "G.add_edges_from([(1,3,{\"weight\": 13})])\n",
    "G[1][2][\"color\"] = \"pink\"\n",
    "G.edges.data()"
   ]
  },
  {
   "cell_type": "code",
   "execution_count": 122,
   "metadata": {},
   "outputs": [],
   "source": [
    "import numpy as np\n",
    "\n",
    "x = np.random.choice(20, size=10, replace=False)\n",
    "y = np.random.choice(20, size=10, replace=False)\n",
    "\n",
    "pos = [(a,b) for a,b in zip(x,y)]\n"
   ]
  },
  {
   "cell_type": "code",
   "execution_count": 123,
   "metadata": {},
   "outputs": [
    {
     "data": {
      "text/plain": [
       "[0, 4, 9]"
      ]
     },
     "execution_count": 123,
     "metadata": {},
     "output_type": "execute_result"
    }
   ],
   "source": [
    "# Djikstra algorithm\n",
    "\n",
    "D = nx.Graph()\n",
    "nodes = [(i, {\"pos\": pos[i]}) for i in range(10)]\n",
    "D.add_nodes_from(nodes)\n",
    "\n",
    "weight = \"weight\"\n",
    "\n",
    "edges = [\n",
    "    (0,1, {weight: 3}),\n",
    "    (0,2, {weight: 4}),\n",
    "    (0,4, {weight: 1}),\n",
    "    (1,3, {weight: 4}),\n",
    "    (1,9, {weight: 7}),\n",
    "    (2,3, {weight: 6}),\n",
    "    (2,4, {weight: 2}),\n",
    "    (2,6, {weight: 3}),\n",
    "    (3,5, {weight: 5}),\n",
    "    (3,9, {weight: 1}),\n",
    "    (4,7, {weight: 2}),\n",
    "    (4,8, {weight: 7}),\n",
    "    (4,9, {weight: 6}),\n",
    "    (5,9, {weight: 3}),\n",
    "    (6,8, {weight: 4}),\n",
    "    (7,9, {weight: 5}),\n",
    "    (8,9, {weight: 1}),\n",
    "]\n",
    "D.add_edges_from(edges)\n",
    "\n",
    "nx.shortest_path(D, source=0, target=9, weight=weight, method='dijkstra')\n"
   ]
  },
  {
   "cell_type": "code",
   "execution_count": 124,
   "metadata": {},
   "outputs": [
    {
     "data": {
      "image/png": "[encoded data removed]",
      "text/plain": [
       "<Figure size 640x480 with 1 Axes>"
      ]
     },
     "metadata": {},
     "output_type": "display_data"
    }
   ],
   "source": [
    "# plotting\n",
    "import matplotlib.pyplot as plt\n",
    "pos = nx.get_node_attributes(D, 'pos')\n",
    "nx.draw(D,pos, with_labels=True)\n",
    "edge_labels = nx.get_edge_attributes(D, 'weight')\n",
    "nx.draw_networkx_edge_labels(D, pos, edge_labels=edge_labels)\n",
    "plt.show()"
   ]
  },
  {
   "cell_type": "code",
   "execution_count": null,
   "metadata": {},
   "outputs": [],
   "source": []
  }
 ],
 "metadata": {
  "kernelspec": {
   "display_name": "Python 3",
   "language": "python",
   "name": "python3"
  },
  "language_info": {
   "codemirror_mode": {
    "name": "ipython",
    "version": 3
   },
   "file_extension": ".py",
   "mimetype": "text/x-python",
   "name": "python",
   "nbconvert_exporter": "python",
   "pygments_lexer": "ipython3",
   "version": "3.11.9"
  }
 },
 "nbformat": 4,
 "nbformat_minor": 2
}
